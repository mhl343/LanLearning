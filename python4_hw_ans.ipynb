{
 "cells": [
  {
   "cell_type": "markdown",
   "metadata": {},
   "source": [
    "___\n",
    "\n",
    "<a href='https://www.instagram.com/lanlearning/'> <img src='../pyimages/logosmall.png' width=\"100\" height=\"100\"/></a>\n",
    "___\n",
    "<center>Copyright LanLearning 2020</center>"
   ]
  },
  {
   "cell_type": "markdown",
   "metadata": {},
   "source": [
    "# Welcome back! Let's review python processes!\n",
    "\n",
    "This review notebook is designed to help you refresh and practice the new skills you have learned in **python processes** during your time at Data Science InspireCamp. \n",
    "\n",
    "The topics on the agenda for Week One: \n",
    "- Part 1: Basic Data Types\n",
    "- Part 2: Advanced Data Types\n",
    "- Part 3: Functions\n",
    "- **Part 4: Python Processes**\n",
    "- Part 5: Numpy\n",
    "\n",
    "Let's jump right into the material covered in Part 4: **python processes**!\n",
    " "
   ]
  },
  {
   "cell_type": "markdown",
   "metadata": {},
   "source": [
    "### Operators: \n",
    "\n",
    "What are the **6 different simple operators** that you have learned so far? Type your answer below! "
   ]
  },
  {
   "cell_type": "markdown",
   "metadata": {},
   "source": [
    "```==```,```>```,```<```,```>=```,```<=```,```!=```"
   ]
  },
  {
   "cell_type": "markdown",
   "metadata": {},
   "source": [
    "Use each of the **6** simple operators to compare two integer values/expressions. You can keep it simple by only using one number on each side, or you can alternatively come up with a multinumber expression on each side. Make sure to check that it correctly returns the expected boolean expression (true/false). \n",
    "\n",
    "Examples: \n",
    "\n",
    "One number: 2!=3 (returns ```True```)\n",
    "\n",
    "Multiple numbers: 19-7==10+3 (returns ```False```)"
   ]
  },
  {
   "cell_type": "raw",
   "metadata": {},
   "source": []
  },
  {
   "cell_type": "code",
   "execution_count": 1,
   "metadata": {},
   "outputs": [
    {
     "data": {
      "text/plain": [
       "False"
      ]
     },
     "execution_count": 1,
     "metadata": {},
     "output_type": "execute_result"
    }
   ],
   "source": [
    "1==2"
   ]
  },
  {
   "cell_type": "code",
   "execution_count": 2,
   "metadata": {},
   "outputs": [
    {
     "data": {
      "text/plain": [
       "False"
      ]
     },
     "execution_count": 2,
     "metadata": {},
     "output_type": "execute_result"
    }
   ],
   "source": [
    "1>2"
   ]
  },
  {
   "cell_type": "code",
   "execution_count": 4,
   "metadata": {},
   "outputs": [
    {
     "data": {
      "text/plain": [
       "True"
      ]
     },
     "execution_count": 4,
     "metadata": {},
     "output_type": "execute_result"
    }
   ],
   "source": [
    "1<2"
   ]
  },
  {
   "cell_type": "code",
   "execution_count": 5,
   "metadata": {},
   "outputs": [
    {
     "data": {
      "text/plain": [
       "True"
      ]
     },
     "execution_count": 5,
     "metadata": {},
     "output_type": "execute_result"
    }
   ],
   "source": [
    "12/3>=20/5"
   ]
  },
  {
   "cell_type": "code",
   "execution_count": 6,
   "metadata": {},
   "outputs": [
    {
     "data": {
      "text/plain": [
       "True"
      ]
     },
     "execution_count": 6,
     "metadata": {},
     "output_type": "execute_result"
    }
   ],
   "source": [
    "(14-2)/4<=36/3"
   ]
  },
  {
   "cell_type": "code",
   "execution_count": 7,
   "metadata": {},
   "outputs": [
    {
     "data": {
      "text/plain": [
       "True"
      ]
     },
     "execution_count": 7,
     "metadata": {},
     "output_type": "execute_result"
    }
   ],
   "source": [
    "1!=2"
   ]
  },
  {
   "cell_type": "markdown",
   "metadata": {},
   "source": [
    "What are the **3 different simple operators** that you have learned so far? Type your answer below! "
   ]
  },
  {
   "cell_type": "markdown",
   "metadata": {},
   "source": [
    "```and```,```or```,```not```"
   ]
  },
  {
   "cell_type": "markdown",
   "metadata": {},
   "source": [
    "Write **2 ```and``` statements, 2 ```or``` statements, and 2** ```not``` statements with one evaluating to ```True``` and the other to ```False```.\n"
   ]
  },
  {
   "cell_type": "code",
   "execution_count": 8,
   "metadata": {},
   "outputs": [
    {
     "data": {
      "text/plain": [
       "True"
      ]
     },
     "execution_count": 8,
     "metadata": {},
     "output_type": "execute_result"
    }
   ],
   "source": [
    "2==2 and 1==1"
   ]
  },
  {
   "cell_type": "code",
   "execution_count": 9,
   "metadata": {},
   "outputs": [
    {
     "data": {
      "text/plain": [
       "False"
      ]
     },
     "execution_count": 9,
     "metadata": {},
     "output_type": "execute_result"
    }
   ],
   "source": [
    "2!=2 and 1==1"
   ]
  },
  {
   "cell_type": "code",
   "execution_count": 10,
   "metadata": {},
   "outputs": [
    {
     "data": {
      "text/plain": [
       "True"
      ]
     },
     "execution_count": 10,
     "metadata": {},
     "output_type": "execute_result"
    }
   ],
   "source": [
    "2!=2 or 1==1"
   ]
  },
  {
   "cell_type": "code",
   "execution_count": 11,
   "metadata": {},
   "outputs": [
    {
     "data": {
      "text/plain": [
       "False"
      ]
     },
     "execution_count": 11,
     "metadata": {},
     "output_type": "execute_result"
    }
   ],
   "source": [
    "2!=2 or 1!=1"
   ]
  },
  {
   "cell_type": "code",
   "execution_count": 12,
   "metadata": {},
   "outputs": [
    {
     "data": {
      "text/plain": [
       "True"
      ]
     },
     "execution_count": 12,
     "metadata": {},
     "output_type": "execute_result"
    }
   ],
   "source": [
    "not 1==4"
   ]
  },
  {
   "cell_type": "code",
   "execution_count": 13,
   "metadata": {},
   "outputs": [
    {
     "data": {
      "text/plain": [
       "False"
      ]
     },
     "execution_count": 13,
     "metadata": {},
     "output_type": "execute_result"
    }
   ],
   "source": [
    "not 4==4"
   ]
  },
  {
   "cell_type": "markdown",
   "metadata": {},
   "source": [
    "What are the **2 different membership operators** that you have learned so far? Type your answer below! "
   ]
  },
  {
   "cell_type": "markdown",
   "metadata": {},
   "source": [
    "```in```,```not in```"
   ]
  },
  {
   "cell_type": "markdown",
   "metadata": {},
   "source": [
    "Write **2 ```in```statements and 2 ```not in``` statements** with one evaulating to ```True``` and the other to ```False```. Make **2 of your statements with lists** and **2 of them with strings**."
   ]
  },
  {
   "cell_type": "code",
   "execution_count": 14,
   "metadata": {},
   "outputs": [
    {
     "data": {
      "text/plain": [
       "True"
      ]
     },
     "execution_count": 14,
     "metadata": {},
     "output_type": "execute_result"
    }
   ],
   "source": [
    "'app' in 'apple'"
   ]
  },
  {
   "cell_type": "code",
   "execution_count": 15,
   "metadata": {},
   "outputs": [
    {
     "data": {
      "text/plain": [
       "False"
      ]
     },
     "execution_count": 15,
     "metadata": {},
     "output_type": "execute_result"
    }
   ],
   "source": [
    "4 in [1,2,3]"
   ]
  },
  {
   "cell_type": "code",
   "execution_count": 16,
   "metadata": {},
   "outputs": [
    {
     "data": {
      "text/plain": [
       "True"
      ]
     },
     "execution_count": 16,
     "metadata": {},
     "output_type": "execute_result"
    }
   ],
   "source": [
    "'win' not in 'lose'"
   ]
  },
  {
   "cell_type": "code",
   "execution_count": 17,
   "metadata": {},
   "outputs": [
    {
     "data": {
      "text/plain": [
       "False"
      ]
     },
     "execution_count": 17,
     "metadata": {},
     "output_type": "execute_result"
    }
   ],
   "source": [
    "3 not in [1,2,3]"
   ]
  },
  {
   "cell_type": "markdown",
   "metadata": {},
   "source": [
    "### Conditionals:\n",
    "\n",
    "Let's jump into writing if statements! \n"
   ]
  },
  {
   "cell_type": "markdown",
   "metadata": {},
   "source": [
    "**Here's the scenario:** \n",
    "\n",
    "Let's say that you got a new job as a dog walker! However, the dog only wants to walk when the weather is nice out. Create a variable and an if statement that prints \"The weather is good: walk the dog!\" if it is \"sunny\" out. "
   ]
  },
  {
   "cell_type": "code",
   "execution_count": 2,
   "metadata": {},
   "outputs": [
    {
     "name": "stdout",
     "output_type": "stream",
     "text": [
      "Walk the dog!\n"
     ]
    }
   ],
   "source": [
    "walk='sunny'\n",
    "if 'sunny'==walk:\n",
    "    print ('The weather is good: walk the dog!')"
   ]
  },
  {
   "cell_type": "markdown",
   "metadata": {},
   "source": [
    "It turns out that the dog will always walk on weekends, regardless of the weather. Update your conditional statement to include an```elif``` statement that prints \"It is a weekend: walk the dog!\" if it is a \"weekend\". Also make sure to write an ```else``` statement that prints \"Do not walk the dog!\" if none of the previous conditions are satisfied. "
   ]
  },
  {
   "cell_type": "code",
   "execution_count": 3,
   "metadata": {},
   "outputs": [
    {
     "name": "stdout",
     "output_type": "stream",
     "text": [
      "It is a weekend: walk the dog!\n"
     ]
    }
   ],
   "source": [
    "walk='weekend'\n",
    "if 'sunny'==walk:\n",
    "    print ('The weather is good: walk the dog!')\n",
    "elif 'weekend'==walk:\n",
    "    print ('It is a weekend: walk the dog!' )\n",
    "else:\n",
    "    print ('Do not walk the dog!')\n"
   ]
  },
  {
   "cell_type": "markdown",
   "metadata": {},
   "source": [
    "Now let's use conditional statements within a function!\n",
    "\n",
    "**Here's a new scenario:**\n",
    "\n",
    "You've recently started working as a camp counselor at an art camp! You are in charge of scheduling all of the students. If an attendee is 10 years old or younger, they are put in a painting class. If an attendee is 11-15 years old, they are put in a drawing class. Lastly, if the attendee is 16 or older, they are put in a ceramics class. Write the function **put_in_class** that organizes each camp attendee into their proper class based on their age. Make sure to include a call to your function to check if it runs properly!"
   ]
  },
  {
   "cell_type": "code",
   "execution_count": 4,
   "metadata": {},
   "outputs": [],
   "source": [
    "def put_in_class(age):\n",
    "    if age<11:\n",
    "        return 'Painting'\n",
    "    elif age>15:\n",
    "        return 'Ceramics'\n",
    "    else:\n",
    "        return 'Drawing'"
   ]
  },
  {
   "cell_type": "code",
   "execution_count": 9,
   "metadata": {},
   "outputs": [
    {
     "data": {
      "text/plain": [
       "'Ceramics'"
      ]
     },
     "execution_count": 9,
     "metadata": {},
     "output_type": "execute_result"
    }
   ],
   "source": [
    "put_in_class(16)"
   ]
  },
  {
   "cell_type": "markdown",
   "metadata": {},
   "source": [
    "### For Loops:"
   ]
  },
  {
   "cell_type": "markdown",
   "metadata": {},
   "source": [
    "We'll start off by writing a simple for loop. Create a new array of strings that contains **5** of your favorite foods! Then, using a for loop, iterate through your list and print all of the elements. "
   ]
  },
  {
   "cell_type": "code",
   "execution_count": 10,
   "metadata": {},
   "outputs": [
    {
     "name": "stdout",
     "output_type": "stream",
     "text": [
      "kiwi\n",
      "brownies\n",
      "falafel\n",
      "pho\n",
      "banh mi\n"
     ]
    }
   ],
   "source": [
    "favorite_foods=['kiwi','brownies','falafel','pho','banh mi']\n",
    "\n",
    "for food in favorite_foods:\n",
    "    print (food)"
   ]
  },
  {
   "cell_type": "markdown",
   "metadata": {},
   "source": [
    "Now let's write a for loop with conditional statements! Create an array of integers ranging from 1-5 (inclusive). If the number is odd, add ```1``` to the number, and if the number is even, add ```2``` to the number. "
   ]
  },
  {
   "cell_type": "code",
   "execution_count": 3,
   "metadata": {},
   "outputs": [
    {
     "name": "stdout",
     "output_type": "stream",
     "text": [
      "2\n",
      "4\n",
      "4\n",
      "6\n",
      "6\n"
     ]
    }
   ],
   "source": [
    "nums=[1,2,3,4,5]\n",
    "for number in nums:\n",
    "    if number%2==1:\n",
    "        number+=1\n",
    "        print (number)\n",
    "    else:\n",
    "        number+=2\n",
    "        print (number)"
   ]
  },
  {
   "cell_type": "markdown",
   "metadata": {},
   "source": [
    "### While Loops:"
   ]
  },
  {
   "cell_type": "markdown",
   "metadata": {},
   "source": [
    "Using a while loop, print all the odd numbers from 1-10 (inclusive)."
   ]
  },
  {
   "cell_type": "code",
   "execution_count": 1,
   "metadata": {},
   "outputs": [
    {
     "name": "stdout",
     "output_type": "stream",
     "text": [
      "1\n",
      "3\n",
      "5\n",
      "7\n",
      "9\n"
     ]
    }
   ],
   "source": [
    "counter = 1\n",
    "while counter<11:\n",
    "    print (counter)\n",
    "    counter+=2\n"
   ]
  },
  {
   "cell_type": "markdown",
   "metadata": {},
   "source": [
    "In the problem above, what would happen if we failed to update the counter variable?"
   ]
  },
  {
   "cell_type": "markdown",
   "metadata": {},
   "source": [
    "The loop would run on forever and be stuck in an endless cycle because there is no iteration."
   ]
  },
  {
   "cell_type": "markdown",
   "metadata": {},
   "source": [
    "Using a while loop, count the number of instances of **\"cat\"** in the array of strings below."
   ]
  },
  {
   "cell_type": "code",
   "execution_count": 4,
   "metadata": {},
   "outputs": [
    {
     "name": "stdout",
     "output_type": "stream",
     "text": [
      "3\n"
     ]
    }
   ],
   "source": [
    "animals=['dog','cat','hamster','cat','guinea pig','bird','iguana','cat']\n",
    "counter = 0\n",
    "numCat = 0\n",
    "while counter<len(animals):\n",
    "    if animals[counter]=='cat':\n",
    "        numCat+=1\n",
    "    counter+=1\n",
    "print (numCat)\n"
   ]
  },
  {
   "cell_type": "markdown",
   "metadata": {},
   "source": [
    "### Optional Challenge Problems:\n",
    "\n",
    "(1) Using a loop, write a function that returns the number of integers of a given number. Make sure to include a call to your function to check if it runs properly!\n"
   ]
  },
  {
   "cell_type": "code",
   "execution_count": 22,
   "metadata": {},
   "outputs": [],
   "source": [
    "def sum_integers(num):\n",
    "    numInts = 1\n",
    "    while (num>9):\n",
    "        numInts+=1\n",
    "        num=num/10;\n",
    "    return (numInts)\n",
    "    "
   ]
  },
  {
   "cell_type": "code",
   "execution_count": 23,
   "metadata": {},
   "outputs": [
    {
     "data": {
      "text/plain": [
       "3"
      ]
     },
     "execution_count": 23,
     "metadata": {},
     "output_type": "execute_result"
    }
   ],
   "source": [
    "sum_integers(202)"
   ]
  },
  {
   "cell_type": "markdown",
   "metadata": {},
   "source": [
    "(2) Using a loop, write a function that counts the number of **4s** in a given number. Make sure to include a call to your function to check if it runs properly!"
   ]
  },
  {
   "cell_type": "code",
   "execution_count": 53,
   "metadata": {},
   "outputs": [],
   "source": [
    "def count_4s (num):\n",
    "    num4s = 0;\n",
    "    while (num>9):\n",
    "        if num%10==4:\n",
    "            num4s+=1\n",
    "        num=(int)(num/10)\n",
    "    if num==4:\n",
    "        num4s+=1\n",
    "    return (num4s)\n",
    "    "
   ]
  },
  {
   "cell_type": "code",
   "execution_count": 59,
   "metadata": {},
   "outputs": [
    {
     "data": {
      "text/plain": [
       "3"
      ]
     },
     "execution_count": 59,
     "metadata": {},
     "output_type": "execute_result"
    }
   ],
   "source": [
    "count_4s(24344)"
   ]
  },
  {
   "cell_type": "markdown",
   "metadata": {},
   "source": [
    "(3) Using a loop, count the number of times that an element in the following list has both an **odd** index and has a value that is **divisible by 3**.\n",
    "\n",
    "Example of output: \n",
    "\n",
    "nums=[0,1,2,3]\n",
    "\n",
    "expected output: 1 (3 is at an odd index **and** it is also divisible by 3)\n",
    "\n"
   ]
  },
  {
   "cell_type": "code",
   "execution_count": 66,
   "metadata": {},
   "outputs": [
    {
     "name": "stdout",
     "output_type": "stream",
     "text": [
      "2\n"
     ]
    }
   ],
   "source": [
    "nums=[2,5,6,12,1,15,10]\n",
    "\n",
    "counter = 0\n",
    "for number in nums:\n",
    "    if nums.index(number)%2==1 and number%3==0:\n",
    "        counter+=1\n",
    "print (counter)"
   ]
  },
  {
   "cell_type": "markdown",
   "metadata": {},
   "source": [
    "# Congratulations, you've reached the end!\n",
    "\n",
    "Good job with completing today's assignment! You're on your way to becoming an amazing data scientist :)\n",
    "\n",
    "Thanks for sticking with it and keeping up with the cirriculum. As always, feel free to email lanlearningservice@gmail.com with any questions/concerns! :)"
   ]
  },
  {
   "cell_type": "markdown",
   "metadata": {},
   "source": [
    "### About this notebook: \n",
    "Developed by: <br>\n",
    "**Madeleine Larson**  \n",
    "\n",
    "\n",
    "#### Your feedback and learning are important to us. Please leave us feedback on our work! \n",
    "\n",
    "Feedback link: https://forms.gle/XbC6dxXbqnP9JihV6 "
   ]
  },
  {
   "cell_type": "code",
   "execution_count": null,
   "metadata": {},
   "outputs": [],
   "source": []
  }
 ],
 "metadata": {
  "kernelspec": {
   "display_name": "Python 3",
   "language": "python",
   "name": "python3"
  },
  "language_info": {
   "codemirror_mode": {
    "name": "ipython",
    "version": 3
   },
   "file_extension": ".py",
   "mimetype": "text/x-python",
   "name": "python",
   "nbconvert_exporter": "python",
   "pygments_lexer": "ipython3",
   "version": "3.8.2"
  }
 },
 "nbformat": 4,
 "nbformat_minor": 2
}
